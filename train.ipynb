{
 "cells": [
  {
   "cell_type": "markdown",
   "metadata": {},
   "source": [
    "导入库"
   ]
  },
  {
   "cell_type": "code",
   "execution_count": 20,
   "metadata": {},
   "outputs": [],
   "source": [
    "import mindspore\n",
    "from mindspore.dataset import GeneratorDataset, transforms\n",
    "from mindspore import nn\n",
    "from mindnlp.transforms import ErnieTokenizer, PadTransform"
   ]
  },
  {
   "cell_type": "markdown",
   "metadata": {},
   "source": [
    "下载数据集"
   ]
  },
  {
   "cell_type": "code",
   "execution_count": 21,
   "metadata": {},
   "outputs": [],
   "source": [
    "# # download dataset\n",
    "# !wget https://baidu-nlp.bj.bcebos.com/emotion_detection-dataset-1.0.0.tar.gz -O emotion_detection.tar.gz\n",
    "# !tar xvf emotion_detection.tar.gz"
   ]
  },
  {
   "cell_type": "code",
   "execution_count": 22,
   "metadata": {},
   "outputs": [],
   "source": [
    "# prepare dataset\n",
    "class SentimentDataset:\n",
    "    \"\"\"Sentiment Dataset\"\"\"\n",
    "\n",
    "    def __init__(self, path):\n",
    "        self.path = path\n",
    "        self._labels, self._text_a = [], []\n",
    "        self._load()\n",
    "\n",
    "    def _load(self):\n",
    "        with open(self.path, \"r\", encoding=\"utf-8\") as f:\n",
    "            dataset = f.read()\n",
    "        lines = dataset.split(\"\\n\")\n",
    "        for line in lines[1:-1]:\n",
    "            label, text_a = line.split(\"\\t\")\n",
    "            self._labels.append(int(label))\n",
    "            self._text_a.append(text_a)\n",
    "\n",
    "    def __getitem__(self, index):\n",
    "        return self._labels[index], self._text_a[index]\n",
    "\n",
    "    def __len__(self):\n",
    "        return len(self._labels)"
   ]
  },
  {
   "cell_type": "code",
   "execution_count": 23,
   "metadata": {},
   "outputs": [],
   "source": [
    "def process_dataset(source, tokenizer, pad_value, max_seq_len=64, batch_size=32, shuffle=True):\n",
    "    column_names = [\"label\", \"text_a\"]\n",
    "    rename_columns = [\"label\", \"input_ids\"]\n",
    "    \n",
    "    dataset = GeneratorDataset(source, column_names=column_names, shuffle=shuffle)\n",
    "    # transforms\n",
    "    pad_op = PadTransform(max_seq_len, pad_value=pad_value)\n",
    "    type_cast_op = transforms.TypeCast(mindspore.int32)\n",
    "    \n",
    "    # map dataset\n",
    "    dataset = dataset.map(operations=[tokenizer, pad_op], input_columns=\"text_a\")\n",
    "    dataset = dataset.map(operations=[type_cast_op], input_columns=\"label\")\n",
    "    # rename dataset\n",
    "    dataset = dataset.rename(input_columns=column_names, output_columns=rename_columns)\n",
    "    # batch dataset\n",
    "    dataset = dataset.batch(batch_size)\n",
    "\n",
    "    return dataset"
   ]
  },
  {
   "cell_type": "code",
   "execution_count": 24,
   "metadata": {},
   "outputs": [],
   "source": [
    "tokenizer = ErnieTokenizer.from_pretrained(\"uie-base\")\n",
    "pad_value = tokenizer.token_to_id('[PAD]')"
   ]
  },
  {
   "cell_type": "code",
   "execution_count": 25,
   "metadata": {},
   "outputs": [],
   "source": [
    "dataset_train = process_dataset(SentimentDataset(\"data/train.tsv\"), tokenizer, pad_value)\n",
    "dataset_val = process_dataset(SentimentDataset(\"data/dev.tsv\"), tokenizer, pad_value)\n",
    "dataset_test = process_dataset(SentimentDataset(\"data/test.tsv\"), tokenizer, pad_value, shuffle=False)"
   ]
  },
  {
   "cell_type": "code",
   "execution_count": 26,
   "metadata": {},
   "outputs": [
    {
     "name": "stderr",
     "output_type": "stream",
     "text": [
      "[WARNING] ME(6139:140275858237248,MainProcess):2023-09-01-19:06:14.868.20 [/home/luul/桌面/2/mindnlp/mindnlp/abc/models/pretrained_model.py:454] The following parameters in checkpoint files are not loaded:\n",
      "['cls.predictions.transform.weight', 'cls.predictions.layer_norm.gamma', 'cls.predictions.transform.bias', 'cls.predictions.layer_norm.beta', 'cls.predictions.decoder_bias']\n"
     ]
    }
   ],
   "source": [
    "from mindnlp.models import ErnieForSequenceClassification\n",
    "from mindnlp._legacy.amp import auto_mixed_precision\n",
    "from mindnlp.engine import Trainer, Evaluator\n",
    "from mindnlp.engine.callbacks import CheckpointCallback, BestModelCallback\n",
    "from mindnlp.metrics import Accuracy\n",
    "# set bert config and define parameters for training\n",
    "model = ErnieForSequenceClassification.from_pretrained('/home/luul/.mindnlp/ernie-3.0-base-zh', num_labels=3)\n",
    "model = auto_mixed_precision(model, 'O1')\n",
    "\n",
    "loss = nn.CrossEntropyLoss()\n",
    "optimizer = nn.Adam(model.trainable_params(), learning_rate=2e-5)\n",
    "\n",
    "metric = Accuracy()\n",
    "\n",
    "# define callbacks to save checkpoints\n",
    "ckpoint_cb = CheckpointCallback(save_path='checkpoint', ckpt_name='ernie_emotect', epochs=1, keep_checkpoint_max=2)\n",
    "best_model_cb = BestModelCallback(save_path='checkpoint', ckpt_name='ernie_emotect_best', auto_load=True)\n",
    "\n",
    "trainer = Trainer(network=model, train_dataset=dataset_train,\n",
    "                  eval_dataset=dataset_val, metrics=metric,\n",
    "                  epochs=5, loss_fn=loss, optimizer=optimizer, callbacks=[ckpoint_cb, best_model_cb],\n",
    "                  jit=False)"
   ]
  },
  {
   "cell_type": "code",
   "execution_count": 30,
   "metadata": {},
   "outputs": [
    {
     "name": "stdout",
     "output_type": "stream",
     "text": [
      "The train will start from the checkpoint saved in 'checkpoint'.\n"
     ]
    },
    {
     "name": "stderr",
     "output_type": "stream",
     "text": [
      "Epoch 0:   0%|          | 0/302 [00:00<?, ?it/s]\n"
     ]
    },
    {
     "ename": "TypeError",
     "evalue": "Only support assign to attribute of self, but got attribute of attention_mask.\nMore details please refer to syntax support at https://www.mindspore.cn\n\n----------------------------------------------------\n- The Traceback of Net Construct Code:\n----------------------------------------------------\n\n# In file /home/luul/桌面/2/mindnlp/mindnlp/models/ernie/ernie.py:272\n        attention_mask.stop_gradient = True\n        ^\n\n----------------------------------------------------\n- C++ Call Stack: (For framework developers)\n----------------------------------------------------\nmindspore/ccsrc/pipeline/jit/parse/parse.cc:2783 WriteAssignVars\n",
     "output_type": "error",
     "traceback": [
      "\u001b[0;31m---------------------------------------------------------------------------\u001b[0m",
      "\u001b[0;31mTypeError\u001b[0m                                 Traceback (most recent call last)",
      "Cell \u001b[0;32mIn[30], line 1\u001b[0m\n\u001b[0;32m----> 1\u001b[0m trainer\u001b[39m.\u001b[39;49mrun(\u001b[39m'\u001b[39;49m\u001b[39mlabel\u001b[39;49m\u001b[39m'\u001b[39;49m)\n",
      "File \u001b[0;32m~/桌面/2/mindnlp/mindnlp/engine/trainer/base.py:198\u001b[0m, in \u001b[0;36mTrainer.run\u001b[0;34m(self, tgt_columns)\u001b[0m\n\u001b[1;32m    195\u001b[0m run_context \u001b[39m=\u001b[39m RunContext(args_dict)\n\u001b[1;32m    196\u001b[0m \u001b[39mself\u001b[39m\u001b[39m.\u001b[39mcallback_manager\u001b[39m.\u001b[39mtrain_begin(run_context)\n\u001b[0;32m--> 198\u001b[0m \u001b[39mself\u001b[39;49m\u001b[39m.\u001b[39;49m_run(run_context, tgt_columns)\n\u001b[1;32m    199\u001b[0m \u001b[39mself\u001b[39m\u001b[39m.\u001b[39mcallback_manager\u001b[39m.\u001b[39mtrain_end(run_context)\n",
      "File \u001b[0;32m~/桌面/2/mindnlp/mindnlp/engine/trainer/base.py:234\u001b[0m, in \u001b[0;36mTrainer._run\u001b[0;34m(self, run_context, tgt_columns)\u001b[0m\n\u001b[1;32m    232\u001b[0m     loss \u001b[39m=\u001b[39m \u001b[39mself\u001b[39m\u001b[39m.\u001b[39mtrain_fn(inputs)\n\u001b[1;32m    233\u001b[0m \u001b[39melse\u001b[39;00m:\n\u001b[0;32m--> 234\u001b[0m     loss \u001b[39m=\u001b[39m \u001b[39mself\u001b[39;49m\u001b[39m.\u001b[39;49mtrain_fn(inputs, tgts)\n\u001b[1;32m    235\u001b[0m loss_total \u001b[39m+\u001b[39m\u001b[39m=\u001b[39m loss\n\u001b[1;32m    236\u001b[0m run_context\u001b[39m.\u001b[39mloss \u001b[39m=\u001b[39m loss_total\u001b[39m/\u001b[39m\u001b[39mself\u001b[39m\u001b[39m.\u001b[39mcur_step_nums\n",
      "File \u001b[0;32m~/桌面/2/mindnlp/mindnlp/engine/trainer/utils.py:65\u001b[0m, in \u001b[0;36mget_default_train_step_fn.<locals>.default_run_step\u001b[0;34m(inputs, labels)\u001b[0m\n\u001b[1;32m     63\u001b[0m status \u001b[39m=\u001b[39m init_status()\n\u001b[1;32m     64\u001b[0m inputs \u001b[39m=\u001b[39m ops\u001b[39m.\u001b[39mdepend(inputs, status)\n\u001b[0;32m---> 65\u001b[0m loss, grads \u001b[39m=\u001b[39m grad_fn(inputs, labels)\n\u001b[1;32m     66\u001b[0m loss \u001b[39m=\u001b[39m loss_scaler\u001b[39m.\u001b[39munscale(loss)\n\u001b[1;32m     67\u001b[0m \u001b[39mif\u001b[39;00m check_gradients:\n",
      "File \u001b[0;32m~/anaconda3/envs/mindspore/lib/python3.9/site-packages/mindspore/common/api.py:610\u001b[0m, in \u001b[0;36mjit.<locals>.wrap_mindspore.<locals>.staging_specialize\u001b[0;34m(*args, **kwargs)\u001b[0m\n\u001b[1;32m    608\u001b[0m \u001b[39mif\u001b[39;00m _is_pynative_parallel() \u001b[39mand\u001b[39;00m func\u001b[39m.\u001b[39m\u001b[39m__name__\u001b[39m \u001b[39m==\u001b[39m _PYNATIVE_PARALLEL_FUNC_NAME:\n\u001b[1;32m    609\u001b[0m     process_obj \u001b[39m=\u001b[39m hash_args\n\u001b[0;32m--> 610\u001b[0m out \u001b[39m=\u001b[39m _MindsporeFunctionExecutor(func, hash_obj, input_signature, process_obj, jit_config)(\u001b[39m*\u001b[39;49margs, \u001b[39m*\u001b[39;49m\u001b[39m*\u001b[39;49mkwargs)\n\u001b[1;32m    611\u001b[0m \u001b[39mreturn\u001b[39;00m out\n",
      "File \u001b[0;32m~/anaconda3/envs/mindspore/lib/python3.9/site-packages/mindspore/common/api.py:102\u001b[0m, in \u001b[0;36m_wrap_func.<locals>.wrapper\u001b[0;34m(*arg, **kwargs)\u001b[0m\n\u001b[1;32m    100\u001b[0m \u001b[39m@wraps\u001b[39m(fn)\n\u001b[1;32m    101\u001b[0m \u001b[39mdef\u001b[39;00m \u001b[39mwrapper\u001b[39m(\u001b[39m*\u001b[39marg, \u001b[39m*\u001b[39m\u001b[39m*\u001b[39mkwargs):\n\u001b[0;32m--> 102\u001b[0m     results \u001b[39m=\u001b[39m fn(\u001b[39m*\u001b[39;49marg, \u001b[39m*\u001b[39;49m\u001b[39m*\u001b[39;49mkwargs)\n\u001b[1;32m    103\u001b[0m     \u001b[39mreturn\u001b[39;00m _convert_python_data(results)\n",
      "File \u001b[0;32m~/anaconda3/envs/mindspore/lib/python3.9/site-packages/mindspore/common/api.py:332\u001b[0m, in \u001b[0;36m_MindsporeFunctionExecutor.__call__\u001b[0;34m(self, *args, **kwargs)\u001b[0m\n\u001b[1;32m    330\u001b[0m \u001b[39mexcept\u001b[39;00m \u001b[39mException\u001b[39;00m \u001b[39mas\u001b[39;00m err:\n\u001b[1;32m    331\u001b[0m     _pynative_executor\u001b[39m.\u001b[39mclear_res()\n\u001b[0;32m--> 332\u001b[0m     \u001b[39mraise\u001b[39;00m err\n\u001b[1;32m    334\u001b[0m \u001b[39mif\u001b[39;00m context\u001b[39m.\u001b[39mget_context(\u001b[39m\"\u001b[39m\u001b[39mprecompile_only\u001b[39m\u001b[39m\"\u001b[39m):\n\u001b[1;32m    335\u001b[0m     \u001b[39mreturn\u001b[39;00m \u001b[39mNone\u001b[39;00m\n",
      "File \u001b[0;32m~/anaconda3/envs/mindspore/lib/python3.9/site-packages/mindspore/common/api.py:329\u001b[0m, in \u001b[0;36m_MindsporeFunctionExecutor.__call__\u001b[0;34m(self, *args, **kwargs)\u001b[0m\n\u001b[1;32m    327\u001b[0m         _pynative_executor\u001b[39m.\u001b[39mset_ms_function_compile_status(\u001b[39mFalse\u001b[39;00m, phase)\n\u001b[1;32m    328\u001b[0m     \u001b[39melse\u001b[39;00m:\n\u001b[0;32m--> 329\u001b[0m         phase \u001b[39m=\u001b[39m \u001b[39mself\u001b[39;49m\u001b[39m.\u001b[39;49mcompile(\u001b[39mself\u001b[39;49m\u001b[39m.\u001b[39;49mfn\u001b[39m.\u001b[39;49m\u001b[39m__name__\u001b[39;49m, \u001b[39m*\u001b[39;49margs_list, \u001b[39m*\u001b[39;49m\u001b[39m*\u001b[39;49mkwargs)\n\u001b[1;32m    330\u001b[0m \u001b[39mexcept\u001b[39;00m \u001b[39mException\u001b[39;00m \u001b[39mas\u001b[39;00m err:\n\u001b[1;32m    331\u001b[0m     _pynative_executor\u001b[39m.\u001b[39mclear_res()\n",
      "File \u001b[0;32m~/anaconda3/envs/mindspore/lib/python3.9/site-packages/mindspore/common/api.py:406\u001b[0m, in \u001b[0;36m_MindsporeFunctionExecutor.compile\u001b[0;34m(self, method_name, *args, **kwargs)\u001b[0m\n\u001b[1;32m    403\u001b[0m     \u001b[39mself\u001b[39m\u001b[39m.\u001b[39m_graph_executor\u001b[39m.\u001b[39mset_jit_config(\u001b[39mself\u001b[39m\u001b[39m.\u001b[39mjit_config_dict)\n\u001b[1;32m    405\u001b[0m \u001b[39mif\u001b[39;00m \u001b[39mself\u001b[39m\u001b[39m.\u001b[39mobj \u001b[39mis\u001b[39;00m \u001b[39mNone\u001b[39;00m:\n\u001b[0;32m--> 406\u001b[0m     is_compile \u001b[39m=\u001b[39m \u001b[39mself\u001b[39;49m\u001b[39m.\u001b[39;49m_graph_executor\u001b[39m.\u001b[39;49mcompile(\u001b[39mself\u001b[39;49m\u001b[39m.\u001b[39;49mfn, compile_args, kwargs, phase, \u001b[39mTrue\u001b[39;49;00m)\n\u001b[1;32m    407\u001b[0m \u001b[39melse\u001b[39;00m:\n\u001b[1;32m    408\u001b[0m     \u001b[39mif\u001b[39;00m \u001b[39misinstance\u001b[39m(\u001b[39mself\u001b[39m\u001b[39m.\u001b[39mobj, ms\u001b[39m.\u001b[39mnn\u001b[39m.\u001b[39mCell):\n",
      "\u001b[0;31mTypeError\u001b[0m: Only support assign to attribute of self, but got attribute of attention_mask.\nMore details please refer to syntax support at https://www.mindspore.cn\n\n----------------------------------------------------\n- The Traceback of Net Construct Code:\n----------------------------------------------------\n\n# In file /home/luul/桌面/2/mindnlp/mindnlp/models/ernie/ernie.py:272\n        attention_mask.stop_gradient = True\n        ^\n\n----------------------------------------------------\n- C++ Call Stack: (For framework developers)\n----------------------------------------------------\nmindspore/ccsrc/pipeline/jit/parse/parse.cc:2783 WriteAssignVars\n"
     ]
    }
   ],
   "source": [
    "trainer.run('label')"
   ]
  },
  {
   "cell_type": "code",
   "execution_count": null,
   "metadata": {},
   "outputs": [],
   "source": [
    "evaluator = Evaluator(network=model, eval_dataset=dataset_test, metrics=metric)\n",
    "evaluator.run(tgt_columns=\"label\")"
   ]
  },
  {
   "cell_type": "code",
   "execution_count": null,
   "metadata": {},
   "outputs": [],
   "source": [
    "dataset_infer = SentimentDataset(\"data/infer.tsv\")"
   ]
  },
  {
   "cell_type": "code",
   "execution_count": null,
   "metadata": {},
   "outputs": [],
   "source": [
    "def predict(text, label=None):\n",
    "    label_map = {0: \"消极\", 1: \"中性\", 2: \"积极\"}\n",
    "\n",
    "    text_tokenized = Tensor([tokenizer.encode(text).ids])\n",
    "    logits = model(text_tokenized)\n",
    "    predict_label = logits[0].asnumpy().argmax()\n",
    "    info = f\"inputs: '{text}', predict: '{label_map[predict_label]}'\"\n",
    "    if label is not None:\n",
    "        info += f\" , label: '{label_map[label]}'\"\n",
    "    print(info)"
   ]
  },
  {
   "cell_type": "code",
   "execution_count": null,
   "metadata": {},
   "outputs": [],
   "source": [
    "from mindspore import Tensor\n",
    "\n",
    "for label, text in dataset_infer:\n",
    "    predict(text, label)"
   ]
  },
  {
   "cell_type": "code",
   "execution_count": null,
   "metadata": {},
   "outputs": [],
   "source": [
    "predict(\"家人们咱就是说一整个无语住了 绝绝子叠buff\")"
   ]
  }
 ],
 "metadata": {
  "kernelspec": {
   "display_name": "mindspore",
   "language": "python",
   "name": "python3"
  },
  "language_info": {
   "codemirror_mode": {
    "name": "ipython",
    "version": 3
   },
   "file_extension": ".py",
   "mimetype": "text/x-python",
   "name": "python",
   "nbconvert_exporter": "python",
   "pygments_lexer": "ipython3",
   "version": "3.9.17"
  },
  "orig_nbformat": 4
 },
 "nbformat": 4,
 "nbformat_minor": 2
}
