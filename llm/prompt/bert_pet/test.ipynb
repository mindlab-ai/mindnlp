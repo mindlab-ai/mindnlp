{
 "cells": [
  {
   "cell_type": "code",
   "execution_count": 1,
   "metadata": {},
   "source": [
    "from datasets import load_dataset\n",
    "\n",
    "train_path = \"data/comment_classify/train.txt\"\n",
    "dev_path = \"data/comment_classify/dev.txt\"\n",
    "dataset = load_dataset('text', data_files={'train': train_path, 'dev': dev_path})\n",
    "\n",
    "for i in dataset['train']:\n",
    "    print(i)\n",
    "    break\n"
   ],
   "outputs": []
  },
  {
   "cell_type": "code",
   "execution_count": null,
   "metadata": {},
   "source": [
    "import json\n",
    "import os\n",
    "\n",
    "import mindspore\n",
    "from mindspore import ops\n",
    "from mindnlp.models import BertModel, BertConfig\n",
    "import numpy as np\n",
    "\n",
    "def from_dict(json_object):\n",
    "    \"\"\"Constructs a `BertConfig` from a Python dictionary of parameters.\"\"\"\n",
    "    config = BertConfig()\n",
    "    for key, value in json_object.items():\n",
    "        config.__dict__[key] = value\n",
    "    return config\n",
    "\n",
    "def from_json_file(json_file):\n",
    "    \"\"\"Constructs a `BertConfig` from a json file of parameters.\"\"\"\n",
    "    with open(json_file, \"r\", encoding='utf-8') as reader:\n",
    "        text = reader.read()\n",
    "    return from_dict(json.loads(text))\n",
    "\n",
    "model_folder_path = \"ckpt\"\n",
    "config_path = os.path.join(model_folder_path, 'config.json')\n",
    "config = from_json_file(config_path)\n",
    "bert = BertModel(config)"
   ],
   "outputs": []
  },
  {
   "cell_type": "code",
   "execution_count": 1,
   "metadata": {},
   "source": [
    "from utils import save_jsonfile\n",
    "from mindnlp.models import BertConfig\n",
    "config = BertConfig(100)\n",
    "save_jsonfile(config, \"config.json\")\n"
   ],
   "outputs": []
  }
 ],
 "metadata": {
  "kernelspec": {
   "display_name": "qsh-bert-prompt",
   "language": "python",
   "name": "python3"
  },
  "language_info": {
   "codemirror_mode": {
    "name": "ipython",
    "version": 3
   },
   "file_extension": ".py",
   "mimetype": "text/x-python",
   "name": "python",
   "nbconvert_exporter": "python",
   "pygments_lexer": "ipython3",
   "version": "3.7.16"
  },
  "orig_nbformat": 4
 },
 "nbformat": 4,
 "nbformat_minor": 2
}
