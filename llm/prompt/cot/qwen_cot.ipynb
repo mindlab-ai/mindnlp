{
 "cells": [
  {
   "cell_type": "code",
   "execution_count": 1,
   "id": "bcc0208e-3378-46e2-a8fc-beeba04ed15f",
   "metadata": {},
   "source": [
    "import datasets\n",
    "from datasets import load_dataset"
   ],
   "outputs": []
  },
  {
   "cell_type": "code",
   "execution_count": 2,
   "id": "ad2fe29c-3069-46b1-94d3-857a111de1c9",
   "metadata": {},
   "source": [
    "config = datasets.DownloadConfig(resume_download=True, max_retries=100)\n",
    "dataset = load_dataset(\"gsm8k\", \"main\", download_config=config)\n",
    "\n",
    "test = dataset[\"test\"]"
   ],
   "outputs": []
  },
  {
   "cell_type": "code",
   "execution_count": 3,
   "id": "702addb7-6792-40d6-8a0d-fa2a8392ca2a",
   "metadata": {},
   "source": [
    "from mindnlp.transformers import AutoModelForCausalLM, AutoTokenizer\n",
    "from mindnlp.transformers.generation import GenerationConfig\n",
    "\n",
    "tokenizer = AutoTokenizer.from_pretrained(\"Qwen/Qwen1.5-7B\")\n",
    "model = AutoModelForCausalLM.from_pretrained(\"Qwen/Qwen1.5-7B\").set_train(False)\n",
    "model.generation_config = GenerationConfig.from_pretrained(\"Qwen/Qwen1.5-7B\")\n",
    "model.generation_config.do_sample = False"
   ],
   "outputs": []
  },
  {
   "cell_type": "markdown",
   "id": "2eb97508-15f8-4994-ada0-3b62a729acea",
   "metadata": {},
   "source": [
    "## Prompt Direct\n"
   ]
  },
  {
   "cell_type": "code",
   "execution_count": 4,
   "id": "75d7e5fe-d0b1-42d4-bdfd-699487871577",
   "metadata": {},
   "source": [
    "q_lens = [len(d['question']) for d in dataset['train']]"
   ],
   "outputs": []
  },
  {
   "cell_type": "code",
   "execution_count": 5,
   "id": "11065b14-5279-4c94-b1b8-b6d4052be3d2",
   "metadata": {},
   "source": [
    "import numpy as np\n",
    "np.percentile(q_lens, [50, 80, 90, 95, 99, 100])"
   ],
   "outputs": []
  },
  {
   "cell_type": "code",
   "execution_count": 6,
   "id": "2964d0fd-4a3a-4cd3-bcc9-bbf05f12a4ad",
   "metadata": {},
   "source": [
    "np.argmax(q_lens)"
   ],
   "outputs": []
  },
  {
   "cell_type": "code",
   "execution_count": 7,
   "id": "c9c38ff4-80f1-412f-9362-4ad506f03360",
   "metadata": {},
   "source": [
    "input_text = dataset['train'][3331]['question']"
   ],
   "outputs": []
  },
  {
   "cell_type": "code",
   "execution_count": 8,
   "id": "a37f3e65-3ef3-4ad6-a4ad-28cb6b4ebacc",
   "metadata": {},
   "source": [
    "dataset['train'][3331]['answer']"
   ],
   "outputs": []
  },
  {
   "cell_type": "code",
   "execution_count": 9,
   "id": "e0e99ac6-5354-4a1d-acc6-b4fd75625714",
   "metadata": {},
   "source": [
    "prompt_direct = open('./lib_prompt/prompt_direct.txt').read()"
   ],
   "outputs": []
  },
  {
   "cell_type": "code",
   "execution_count": 10,
   "id": "72945bab-d277-4133-8ae1-2b6c4e3e0cde",
   "metadata": {},
   "source": [
    "prompt_q = prompt_direct + '\\nQuestion: ' + input_text + '\\n'"
   ],
   "outputs": []
  },
  {
   "cell_type": "code",
   "execution_count": 11,
   "id": "f6c9bf7b-294a-44ff-93cd-1dd83195a64a",
   "metadata": {},
   "source": [
    "print(prompt_q)"
   ],
   "outputs": []
  },
  {
   "cell_type": "code",
   "execution_count": 17,
   "id": "842cc33e-4ab0-46a3-8d53-55895bd52b2e",
   "metadata": {},
   "source": [
    "input_ids = tokenizer.encode(prompt_q, return_tensors=\"ms\")\n",
    "input_ids.shape"
   ],
   "outputs": []
  },
  {
   "cell_type": "code",
   "execution_count": 18,
   "id": "38f863f8-29cd-48ba-8978-f0431e832072",
   "metadata": {},
   "source": [
    "outputs = model.generate(input_ids, max_new_tokens=256)\n",
    "print(tokenizer.decode(outputs[0][input_ids.shape[1]:]))"
   ],
   "outputs": []
  },
  {
   "cell_type": "markdown",
   "id": "1e38b1e3-73ae-4a31-9d87-e414cc6e18de",
   "metadata": {},
   "source": [
    "## Complex Prompt"
   ]
  },
  {
   "cell_type": "code",
   "execution_count": 19,
   "id": "2487b147-ca56-437e-907f-01a3d6345709",
   "metadata": {},
   "source": [
    "prompt_complex = open('./lib_prompt/prompt_complex.txt').read()"
   ],
   "outputs": []
  },
  {
   "cell_type": "code",
   "execution_count": 22,
   "id": "2dcabfe6-281c-4b09-8e59-b1f6aeb3038e",
   "metadata": {},
   "source": [
    "prompt_q = prompt_complex + '\\nQuestion: ' + input_text + '\\n'"
   ],
   "outputs": []
  },
  {
   "cell_type": "code",
   "execution_count": 23,
   "id": "18220048-5822-47b7-acae-52e2406685d1",
   "metadata": {},
   "source": [
    "print(prompt_q)"
   ],
   "outputs": []
  },
  {
   "cell_type": "code",
   "execution_count": 24,
   "id": "556a4b25-8183-429d-b4a8-f6f9671510bb",
   "metadata": {},
   "source": [
    "input_ids = tokenizer.encode(prompt_q, return_tensors=\"ms\")\n",
    "input_ids.shape"
   ],
   "outputs": []
  },
  {
   "cell_type": "code",
   "execution_count": 25,
   "id": "f3131950-9d13-4a0d-a849-a89fb14f1b15",
   "metadata": {},
   "source": [
    "outputs = model.generate(input_ids, max_new_tokens=256)\n",
    "print(tokenizer.decode(outputs[0][input_ids.shape[1]:]))"
   ],
   "outputs": []
  },
  {
   "cell_type": "code",
   "execution_count": null,
   "id": "80ce59f5-f43f-4ea1-8f39-ecfc852d8cc8",
   "metadata": {},
   "source": [],
   "outputs": []
  }
 ],
 "metadata": {
  "kernelspec": {
   "display_name": "Python 3 (ipykernel)",
   "language": "python",
   "name": "python3"
  },
  "language_info": {
   "codemirror_mode": {
    "name": "ipython",
    "version": 3
   },
   "file_extension": ".py",
   "mimetype": "text/x-python",
   "name": "python",
   "nbconvert_exporter": "python",
   "pygments_lexer": "ipython3",
   "version": "3.9.18"
  }
 },
 "nbformat": 4,
 "nbformat_minor": 5
}
