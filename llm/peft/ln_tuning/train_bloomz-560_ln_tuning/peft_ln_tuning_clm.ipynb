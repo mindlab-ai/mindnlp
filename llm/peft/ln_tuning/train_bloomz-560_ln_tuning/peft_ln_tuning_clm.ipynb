{
 "cells": [
  {
   "cell_type": "code",
   "execution_count": null,
   "metadata": {},
   "outputs": [],
   "source": [
    "\"\"\"peft_ln_tuning_clm.py\"\"\"\n",
    "\n",
    "import os\n",
    "\n",
    "import mindspore\n",
    "\n",
    "from mindnlp.dataset import load_dataset\n",
    "from mindnlp.engine import Trainer, TrainingArguments\n",
    "from mindnlp.peft import LNTuningConfig, PeftModel, TaskType, get_peft_model\n",
    "from mindnlp.transformers import AutoModelForCausalLM, AutoTokenizer"
   ]
  },
  {
   "cell_type": "code",
   "execution_count": null,
   "metadata": {},
   "outputs": [],
   "source": [
    "mindspore.set_context(device_target=\"GPU\")\n",
    "os.environ[\"HF_ENDPOINT\"] = \"https://hf-mirror.com\"\n",
    "# os.environ[\"HTTP_PROXY\"] = \"http://127.0.0.1:7890\"\n",
    "# os.environ[\"HTTPS_PROXY\"] = \"http://127.0.0.1:7890\""
   ]
  },
  {
   "cell_type": "code",
   "execution_count": null,
   "metadata": {},
   "outputs": [],
   "source": [
    "model_name = \"bigscience/bloomz-560m\"\n",
    "dataset_name = \"ought/raft\"\n",
    "field = \"twitter_complaints\"\n",
    "text_column = \"Tweet text\"\n",
    "label_column = \"text_label\"\n",
    "max_length = 64\n",
    "lr = 1e-2\n",
    "num_epochs = 8\n",
    "batch_size = 12\n",
    "classes = [\"Unlabeled\", \"complaint\", \"no complaint\"]"
   ]
  },
  {
   "cell_type": "code",
   "execution_count": null,
   "metadata": {},
   "outputs": [],
   "source": [
    "peft_config = LNTuningConfig(task_type=TaskType.CAUSAL_LM)\n",
    "\n",
    "tokenizer = AutoTokenizer.from_pretrained(model_name)\n",
    "\n",
    "# ['Tweet text', 'ID', 'Label']\n",
    "dataset = load_dataset(dataset_name, field)"
   ]
  },
  {
   "cell_type": "code",
   "execution_count": null,
   "metadata": {},
   "outputs": [],
   "source": [
    "def preprocess_fn(texts, ids, labels):\n",
    "    input_texts = f\"{text_column} : {texts} Label : {labels} :\"\n",
    "    targets = str(labels)\n",
    "    model_inputs = tokenizer(\n",
    "        input_texts, max_length=max_length, padding=\"max_length\", truncation=True\n",
    "    )\n",
    "    labels = tokenizer(\n",
    "        targets,\n",
    "        add_special_tokens=False,\n",
    "        max_length=max_length,\n",
    "        padding=\"max_length\",\n",
    "        truncation=True,\n",
    "    )\n",
    "    return (\n",
    "        model_inputs[\"input_ids\"],\n",
    "        model_inputs[\"attention_mask\"],\n",
    "        labels[\"input_ids\"],\n",
    "    )\n",
    "\n",
    "\n",
    "train_set = dataset[\"train\"].map(\n",
    "    preprocess_fn,\n",
    "    input_columns=[\"Tweet text\", \"ID\", \"Label\"],\n",
    "    output_columns=[\"input_ids\", \"attenion_mask\", \"labels\"],\n",
    ")\n",
    "test_set = dataset[\"test\"].map(\n",
    "    preprocess_fn,\n",
    "    input_columns=[\"Tweet text\", \"ID\", \"Label\"],\n",
    "    output_columns=[\"input_ids\", \"attenion_mask\", \"labels\"],\n",
    ")"
   ]
  },
  {
   "cell_type": "code",
   "execution_count": null,
   "metadata": {},
   "outputs": [],
   "source": [
    "model = AutoModelForCausalLM.from_pretrained(model_name)\n",
    "model = get_peft_model(model, peft_config)\n",
    "model.print_trainable_parameters()\n",
    "training_args = TrainingArguments(\n",
    "    output_dir=\"./output\",\n",
    "    num_train_epochs=num_epochs,\n",
    "    learning_rate=lr,\n",
    "    per_device_train_batch_size=batch_size,\n",
    "    per_device_eval_batch_size=batch_size,\n",
    "    evaluation_strategy=\"epoch\",\n",
    "    save_strategy=\"epoch\",\n",
    ")\n",
    "\n",
    "trainer = Trainer(\n",
    "    model=model,\n",
    "    train_dataset=train_set,\n",
    "    eval_dataset=test_set,\n",
    "    args=training_args,\n",
    ")\n",
    "\n",
    "trainer.train()\n",
    "model.save_pretrained(f\"{model_name}_{peft_config.peft_type}_{peft_config.task_type}\")"
   ]
  },
  {
   "cell_type": "code",
   "execution_count": null,
   "metadata": {},
   "outputs": [],
   "source": [
    "ckpt = f\"{model_name}_{peft_config.peft_type}_{peft_config.task_type}.ckpt\"\n",
    "new_model = AutoModelForCausalLM.from_pretrained(model_name)\n",
    "new_model = PeftModel.from_pretrained(new_model, ckpt[:-5])\n",
    "\n",
    "\n",
    "text = \"@greateranglia Ok thanks...\"\n",
    "out = tokenizer(\n",
    "    text,\n",
    "    max_length=max_length,\n",
    "    padding=\"max_length\",\n",
    "    truncation=True,\n",
    "    return_tensors=\"ms\",\n",
    ")\n",
    "input_ids = out[\"input_ids\"]\n",
    "attention_mask = out[\"attention_mask\"]\n",
    "outputs = new_model.generate(\n",
    "    input_ids=input_ids,\n",
    "    attention_mask=attention_mask,\n",
    "    max_new_tokens=10,\n",
    "    eos_token_id=3,\n",
    ")\n",
    "print(outputs)\n",
    "print(tokenizer.batch_decode(outputs, skip_special_tokens=True))"
   ]
  }
 ],
 "metadata": {
  "language_info": {
   "name": "python"
  }
 },
 "nbformat": 4,
 "nbformat_minor": 2
}
