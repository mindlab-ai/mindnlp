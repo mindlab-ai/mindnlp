{
 "cells": [
  {
   "cell_type": "code",
   "execution_count": 7,
   "id": "f29588be-fbc2-4101-8734-661a716ea1c7",
   "metadata": {},
   "outputs": [],
   "source": [
    "import mindspore\n",
    "import mindnlp\n",
    "from mindspore import nn\n",
    "from mindnlp.modules import Glove\n",
    "from mindnlp.transforms import BasicTokenizer"
   ]
  },
  {
   "cell_type": "code",
   "execution_count": 2,
   "id": "daab0038-dc5d-4b0f-ab3b-5e8793c7f5e8",
   "metadata": {},
   "outputs": [
    {
     "name": "stderr",
     "output_type": "stream",
     "text": [
      "100%|████████████████████████████████████████████████████████████████████████████████████████████████████████████████████████████████████| 80.2M/80.2M [00:21<00:00, 3.97MB/s]\n"
     ]
    }
   ],
   "source": [
    "imdb_train, imdb_test = mindnlp.load_dataset('imdb', split=['train', 'test'], shuffle=True)"
   ]
  },
  {
   "cell_type": "code",
   "execution_count": 4,
   "id": "c6caea8f-e16f-4df9-a275-d5cb51c4b817",
   "metadata": {},
   "outputs": [],
   "source": [
    "tokenizer = BasicTokenizer(lower_case=True)"
   ]
  },
  {
   "cell_type": "code",
   "execution_count": 5,
   "id": "9bae9d35-ba6b-40d7-9b7d-6d91ee2c5f46",
   "metadata": {},
   "outputs": [],
   "source": [
    "imdb_train = imdb_train.map(tokenizer, 'text')\n",
    "imdb_test = imdb_test.map(tokenizer, 'text')"
   ]
  },
  {
   "cell_type": "code",
   "execution_count": 9,
   "id": "206e4277-af8e-430b-9533-1a612daf0a80",
   "metadata": {},
   "outputs": [
    {
     "name": "stderr",
     "output_type": "stream",
     "text": [
      "100%|██████████████████████████████████████████████████████████████████████████████████████████████████████████████████████████████████████| 822M/822M [03:40<00:00, 3.91MB/s]\n"
     ]
    }
   ],
   "source": [
    "# load embedding and vocab\n",
    "embedding, vocab = Glove.from_pretrained('6B', 100, special_tokens=[\"<unk>\", \"<pad>\"])"
   ]
  },
  {
   "cell_type": "code",
   "execution_count": null,
   "id": "4f07b456-0277-4387-b438-7f7b1a083b5b",
   "metadata": {},
   "outputs": [],
   "source": []
  }
 ],
 "metadata": {
  "kernelspec": {
   "display_name": "Python 3 (ipykernel)",
   "language": "python",
   "name": "python3"
  },
  "language_info": {
   "codemirror_mode": {
    "name": "ipython",
    "version": 3
   },
   "file_extension": ".py",
   "mimetype": "text/x-python",
   "name": "python",
   "nbconvert_exporter": "python",
   "pygments_lexer": "ipython3",
   "version": "3.7.5"
  }
 },
 "nbformat": 4,
 "nbformat_minor": 5
}
