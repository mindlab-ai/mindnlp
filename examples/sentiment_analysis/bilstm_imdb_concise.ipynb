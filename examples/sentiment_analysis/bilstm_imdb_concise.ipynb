{
 "cells": [
  {
   "cell_type": "code",
   "execution_count": 1,
   "id": "91b23aa5-bf39-4d01-8840-6d95e16829ed",
   "metadata": {},
   "outputs": [
    {
     "name": "stderr",
     "output_type": "stream",
     "text": [
      "[ERROR] ME(37345:140024222904512,MainProcess):2023-03-07-11:55:01.152.472 [mindspore/run_check/_check_version.py:226] Cuda ['10.1', '11.1', '11.6'] version(libcu*.so need by mindspore-gpu) is not found, please confirm that the path of cuda is set to the env LD_LIBRARY_PATH, or check whether the CUDA version in wheel package and the CUDA runtime in current device matches, please refer to the installation guidelines: https://www.mindspore.cn/install\n",
      "[ERROR] ME(37345:140024222904512,MainProcess):2023-03-07-11:55:01.179.028 [mindspore/run_check/_check_version.py:226] Cuda ['10.1', '11.1', '11.6'] version(libcudnn*.so need by mindspore-gpu) is not found, please confirm that the path of cuda is set to the env LD_LIBRARY_PATH, or check whether the CUDA version in wheel package and the CUDA runtime in current device matches, please refer to the installation guidelines: https://www.mindspore.cn/install\n"
     ]
    }
   ],
   "source": [
    "import math\n",
    "\n",
    "from mindspore import nn\n",
    "from mindspore import ops\n",
    "from mindspore.common.initializer import initializer\n",
    "\n",
    "from mindnlp import load_dataset, process\n",
    "from mindnlp.abc import Seq2vecModel\n",
    "from mindnlp.engine import Trainer, Accuracy\n",
    "from mindnlp.modules import Glove, RNNEncoder\n",
    "from mindnlp.transforms import BasicTokenizer"
   ]
  },
  {
   "cell_type": "code",
   "execution_count": 2,
   "id": "e27f0fa8-c881-42ae-b162-fa46d8c724a6",
   "metadata": {},
   "outputs": [
    {
     "name": "stderr",
     "output_type": "stream",
     "text": [
      "WARNING:root:This parameter `keep_prob` will be deprecated, please use `p` instead.\n",
      "WARNING:root:This parameter `keep_prob` will be deprecated, please use `p` instead.\n"
     ]
    },
    {
     "name": "stdout",
     "output_type": "stream",
     "text": [
      "['text', 'label']\n"
     ]
    }
   ],
   "source": [
    "# load embedding and vocab\n",
    "embedding, vocab = Glove.from_pretrained('6B', 100, special_tokens=[\"<unk>\", \"<pad>\"])\n",
    "\n",
    "# load datasets\n",
    "imdb_train, imdb_test = load_dataset('imdb', shuffle=True)\n",
    "print(imdb_train.get_col_names())"
   ]
  },
  {
   "cell_type": "code",
   "execution_count": 3,
   "id": "3de8db32-1c2a-4b14-b3c4-aa7e7773d113",
   "metadata": {},
   "outputs": [],
   "source": [
    "tokenizer = BasicTokenizer(True)\n",
    "imdb_train = process('imdb', imdb_train, tokenizer=tokenizer, vocab=vocab, \\\n",
    "                     bucket_boundaries=[400, 500], max_len=600, drop_remainder=True)\n",
    "imdb_test = process('imdb', imdb_test, tokenizer=tokenizer, vocab=vocab, \\\n",
    "                     bucket_boundaries=[400, 500], max_len=600, drop_remainder=False)"
   ]
  },
  {
   "cell_type": "code",
   "execution_count": 4,
   "id": "b703055d-a044-4053-b067-53a6bcbbfeb7",
   "metadata": {},
   "outputs": [],
   "source": [
    "class SentimentClassification(Seq2vecModel):\n",
    "    def construct(self, text):\n",
    "        _, (hidden, _), _ = self.encoder(text)\n",
    "        context = ops.concat((hidden[-2, :, :], hidden[-1, :, :]), axis=1)\n",
    "        output = self.head(context)\n",
    "        return output"
   ]
  },
  {
   "cell_type": "code",
   "execution_count": 5,
   "id": "f2d9dd6d-bc88-4be0-a452-9bceff227087",
   "metadata": {},
   "outputs": [],
   "source": [
    "# Hyper-parameters\n",
    "hidden_size = 256\n",
    "output_size = 2\n",
    "num_layers = 2\n",
    "bidirectional = True\n",
    "dropout = 0.5\n",
    "lr = 5e-4"
   ]
  },
  {
   "cell_type": "code",
   "execution_count": 6,
   "id": "db621c85-dcf1-47fe-bf21-a472d66d2aee",
   "metadata": {},
   "outputs": [],
   "source": [
    "# build encoder\n",
    "lstm_layer = nn.LSTM(100, hidden_size, num_layers=num_layers, batch_first=True,\n",
    "                     dropout=dropout, bidirectional=bidirectional)\n",
    "encoder = RNNEncoder(embedding, lstm_layer)\n",
    "\n",
    "# build head\n",
    "head = nn.SequentialCell([\n",
    "    nn.Dropout(p=dropout),\n",
    "    nn.Sigmoid(),\n",
    "    nn.Dense(hidden_size * 2, output_size)\n",
    "])\n",
    "\n",
    "# build network\n",
    "network = SentimentClassification(encoder, head)\n",
    "loss = nn.CrossEntropyLoss()\n",
    "optimizer = nn.Adam(network.trainable_params(), learning_rate=lr)"
   ]
  },
  {
   "cell_type": "code",
   "execution_count": 7,
   "id": "4eb3b5d5-3ab7-48bf-8afa-3c104a78da1c",
   "metadata": {},
   "outputs": [],
   "source": [
    "def initialize_weights(m):\n",
    "    if isinstance(m, nn.Dense):\n",
    "        m.weight.set_data(initializer('xavier_normal', m.weight.shape, m.weight.dtype))\n",
    "        m.bias.set_data(initializer('zeros', m.bias.shape, m.bias.dtype))\n",
    "    elif isinstance(m, nn.LSTM):\n",
    "        for name, param in m.parameters_and_names():\n",
    "            if 'bias' in name:\n",
    "                param.set_data(initializer('zeros', param.shape, param.dtype))\n",
    "            elif 'weight' in name:\n",
    "                param.set_data(initializer('orthogonal', param.shape, param.dtype))"
   ]
  },
  {
   "cell_type": "code",
   "execution_count": 8,
   "id": "9da68e43-9dd8-4106-ab0f-45f3224ccbd8",
   "metadata": {},
   "outputs": [
    {
     "name": "stderr",
     "output_type": "stream",
     "text": [
      "WARNING:root:This parameter `keep_prob` will be deprecated, please use `p` instead.\n"
     ]
    },
    {
     "data": {
      "text/plain": [
       "SentimentClassification<\n",
       "  (encoder): RNNEncoder<\n",
       "    (embedding): Glove<\n",
       "      (dropout_layer): Dropout<keep_prob=1.0>\n",
       "      >\n",
       "    (rnn): LSTM<\n",
       "      (rnn): _DynamicLSTMCPUGPU<>\n",
       "      (dropout_op): Dropout<p=0.5>\n",
       "      >\n",
       "    >\n",
       "  (head): SequentialCell<\n",
       "    (0): Dropout<p=0.5>\n",
       "    (1): Sigmoid<>\n",
       "    (2): Dense<input_channels=512, output_channels=2, has_bias=True>\n",
       "    >\n",
       "  >"
      ]
     },
     "execution_count": 8,
     "metadata": {},
     "output_type": "execute_result"
    }
   ],
   "source": [
    "network.apply(initialize_weights)"
   ]
  },
  {
   "cell_type": "code",
   "execution_count": 9,
   "id": "d39bcaf4-1a4b-41bf-8562-4ebea52434bc",
   "metadata": {},
   "outputs": [
    {
     "name": "stderr",
     "output_type": "stream",
     "text": [
      "Epoch 0:   0%|                                                                                                                     | 0/389 [00:00<?, ?it/s]Could not load symbol cublasGetSmCountTarget from libcublas.so.11. Error: /usr/local/cuda-11.1/lib64/libcublas.so.11: undefined symbol: cublasGetSmCountTarget\n",
      "Epoch 0: 100%|██████████████████████████████████████████████████████████████████████████████████████████| 389/389 [02:53<00:00,  2.24it/s, loss=0.67719746]\n",
      "Evaluate: 100%|██████████████████████████████████████████████████████████████████████████████████████████████████████████| 393/393 [00:28<00:00, 13.82it/s]\n"
     ]
    },
    {
     "name": "stdout",
     "output_type": "stream",
     "text": [
      "Evaluate Score: {'Accuracy': 0.57068}\n"
     ]
    },
    {
     "name": "stderr",
     "output_type": "stream",
     "text": [
      "Epoch 1: 100%|███████████████████████████████████████████████████████████████████████████████████████████| 389/389 [02:46<00:00,  2.33it/s, loss=0.6715606]\n",
      "Evaluate: 100%|██████████████████████████████████████████████████████████████████████████████████████████████████████████| 393/393 [00:29<00:00, 13.10it/s]\n"
     ]
    },
    {
     "name": "stdout",
     "output_type": "stream",
     "text": [
      "Evaluate Score: {'Accuracy': 0.71992}\n"
     ]
    },
    {
     "name": "stderr",
     "output_type": "stream",
     "text": [
      "Epoch 2:   0%|                                                                                                                     | 0/389 [00:00<?, ?it/s][WARNING] PYNATIVE(37345,7f59ee10f0c0,python):2023-03-07-12:02:20.639.285 [mindspore/ccsrc/pipeline/pynative/grad/grad.cc:1198] CheckAlreadyRun] The input info of this cell has changed, forward process will run again\n",
      "Epoch 2: 100%|███████████████████████████████████████████████████████████████████████████████████████████| 389/389 [02:48<00:00,  2.31it/s, loss=0.3727703]\n",
      "Evaluate: 100%|██████████████████████████████████████████████████████████████████████████████████████████████████████████| 393/393 [00:28<00:00, 13.57it/s]\n"
     ]
    },
    {
     "name": "stdout",
     "output_type": "stream",
     "text": [
      "Evaluate Score: {'Accuracy': 0.86732}\n"
     ]
    },
    {
     "name": "stderr",
     "output_type": "stream",
     "text": [
      "Epoch 3:   0%|                                                                                                                     | 0/389 [00:00<?, ?it/s][WARNING] PYNATIVE(37345,7f59ee10f0c0,python):2023-03-07-12:05:38.077.060 [mindspore/ccsrc/pipeline/pynative/grad/grad.cc:1198] CheckAlreadyRun] The input info of this cell has changed, forward process will run again\n",
      "Epoch 3: 100%|██████████████████████████████████████████████████████████████████████████████████████████| 389/389 [02:48<00:00,  2.30it/s, loss=0.24394786]\n",
      "Evaluate: 100%|██████████████████████████████████████████████████████████████████████████████████████████████████████████| 393/393 [00:29<00:00, 13.38it/s]\n"
     ]
    },
    {
     "name": "stdout",
     "output_type": "stream",
     "text": [
      "Evaluate Score: {'Accuracy': 0.87764}\n"
     ]
    },
    {
     "name": "stderr",
     "output_type": "stream",
     "text": [
      "Epoch 4:   0%|                                                                                                                     | 0/389 [00:00<?, ?it/s][WARNING] PYNATIVE(37345,7f59ee10f0c0,python):2023-03-07-12:08:56.278.945 [mindspore/ccsrc/pipeline/pynative/grad/grad.cc:1198] CheckAlreadyRun] The input info of this cell has changed, forward process will run again\n",
      "Epoch 4: 100%|██████████████████████████████████████████████████████████████████████████████████████████| 389/389 [02:49<00:00,  2.30it/s, loss=0.17225789]\n",
      "Evaluate: 100%|██████████████████████████████████████████████████████████████████████████████████████████████████████████| 393/393 [00:29<00:00, 13.40it/s]"
     ]
    },
    {
     "name": "stdout",
     "output_type": "stream",
     "text": [
      "Evaluate Score: {'Accuracy': 0.86912}\n"
     ]
    },
    {
     "name": "stderr",
     "output_type": "stream",
     "text": [
      "\n"
     ]
    }
   ],
   "source": [
    "# define metrics\n",
    "metric = Accuracy()\n",
    "\n",
    "# define trainer\n",
    "trainer = Trainer(network=network, train_dataset=imdb_train, eval_dataset=imdb_test, metrics=metric,\n",
    "                  epochs=5, loss_fn=loss, optimizer=optimizer)\n",
    "trainer.run(tgt_columns=\"label\")"
   ]
  }
 ],
 "metadata": {
  "kernelspec": {
   "display_name": "Python 3 (ipykernel)",
   "language": "python",
   "name": "python3"
  },
  "language_info": {
   "codemirror_mode": {
    "name": "ipython",
    "version": 3
   },
   "file_extension": ".py",
   "mimetype": "text/x-python",
   "name": "python",
   "nbconvert_exporter": "python",
   "pygments_lexer": "ipython3",
   "version": "3.7.13"
  }
 },
 "nbformat": 4,
 "nbformat_minor": 5
}
