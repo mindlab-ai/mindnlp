{
 "cells": [
  {
   "attachments": {},
   "cell_type": "markdown",
   "metadata": {},
   "source": [
    "# RoBERTa for sentence classification\n",
    "\n",
    "### download pretrained files:"
   ]
  },
  {
   "cell_type": "code",
   "execution_count": null,
   "metadata": {},
   "outputs": [],
   "source": [
    "import json\n",
    "import numpy as np\n",
    "\n",
    "import mindspore as ms\n",
    "import mindspore.ops as ops\n",
    "\n",
    "from mindnlp.models.roberta import RobertaConfig\n",
    "from mindnlp.transforms import RobertaTokenizer\n",
    "from mindnlp.models import RobertaForSequenceClassification\n",
    "\n",
    "from corpus_cleaning_kit import en_cleaning"
   ]
  },
  {
   "cell_type": "code",
   "execution_count": null,
   "metadata": {},
   "outputs": [],
   "source": [
    "with open('roberta_detector.json', 'r') as file:\n",
    "    config = json.load(file)\n",
    "    config = RobertaConfig(**config)"
   ]
  },
  {
   "cell_type": "code",
   "execution_count": null,
   "metadata": {},
   "outputs": [],
   "source": [
    "model = RobertaForSequenceClassification(config)\n",
    "ms.load_checkpoint('roberta_detector.ckpt', model, strict_load=True)"
   ]
  },
  {
   "cell_type": "code",
   "execution_count": null,
   "metadata": {},
   "outputs": [],
   "source": [
    "tokenizer = RobertaTokenizer('roberta_vocab.json')\n",
    "tokenizer._pad_token = 1"
   ]
  },
  {
   "cell_type": "code",
   "execution_count": null,
   "metadata": {},
   "outputs": [],
   "source": [
    "max_sequence_length = 512\n",
    "seed = 0\n",
    "rng = np.random.RandomState(seed)\n",
    "\n",
    "def tokenize_truncate_pad(text: str):\n",
    "    tokens = tokenizer.encode(text).ids\n",
    "    output_length = min(len(tokens), max_sequence_length)\n",
    "    start = 0 if len(tokens) <= output_length else rng(0, len(tokens) - output_length + 1)\n",
    "    end = start + output_length\n",
    "    tokens = tokens[start: end]\n",
    "\n",
    "    padding = [tokenizer.pad_token_id] * (max_sequence_length - len(tokens))\n",
    "    tokens = ms.Tensor(tokens + padding)\n",
    "    mask = ms.ops.ones(tokens.shape[0], ms.int32)\n",
    "    mask[-len(padding):] = 0\n",
    "\n",
    "    return tokens[None, ...], mask[None, ...]"
   ]
  },
  {
   "cell_type": "code",
   "execution_count": null,
   "metadata": {},
   "outputs": [],
   "source": [
    "test_sentences = [\n",
    "    \"They are not colored . Just as white paint is usually made from minerals found in clay . The crystals in white paint reflects all light equally making it appear white . Just liek snow . Primarily the eye color is based on the density and distribution of melanin in the eye . It just looks a certain color when light illuminates the eye . It reflects light unqually .\"\n",
    "    \"Piracy and copyright law can be contentious issues on the internet because they involve complex questions about how to balance the rights of creators and the interests of consumers. Some people argue that artists should have the right to control how their works are distributed and to charge what they feel is appropriate, while others believe that the free exchange of information is important and that artists should not be able to control how their works are used. It's important to remember that copyright law exists to protect the rights of creators and to encourage the creation of new works by ensuring that artists can earn a fair income from their creations. When someone pirates (unauthorized copying) or uses a copyrighted work without permission, they are taking something that belongs to someone else and using it for their own benefit, without paying the person who created it. This can be seen as unfair to the creator and can discourage them from creating new works in the future. At the same time, it's also important to recognize that not everyone has the same access to information and that copyright laws can sometimes make it difficult or impossible for people to access the works they want to use. This is why it's important to have a balance between protecting the rights of creators and ensuring that everyone has access to the information and works they need.\"\n",
    "]\n",
    "test_labels = [0, 1]\n",
    "label_to_meaning = ['human', 'machine']"
   ]
  },
  {
   "cell_type": "code",
   "execution_count": null,
   "metadata": {},
   "outputs": [],
   "source": [
    "for text in test_sentences:\n",
    "    text = en_cleaning(text)\n",
    "    x, mask = tokenize_truncate_pad(text)\n",
    "    logits = model(x, attention_mask=mask, labels=None)\n",
    "    logits = logits[0] # remove tuple\n",
    "    logits = ops.softmax(logits, axis=-1)[0] # remove batch\n",
    "    result = (logits[1] > logits[0]).astype(ms.int32)\n",
    "    print('result:', label_to_meaning[result])\n",
    "    print('prob: %.2f' % logits[result])"
   ]
  }
 ],
 "metadata": {
  "kernelspec": {
   "display_name": "Python 3",
   "language": "python",
   "name": "python3"
  },
  "language_info": {
   "name": "python",
   "version": "3.9.10 (main, Jan 15 2022, 11:48:15) \n[Clang 12.0.0 (clang-1200.0.32.29)]"
  },
  "orig_nbformat": 4,
  "vscode": {
   "interpreter": {
    "hash": "aee8b7b246df8f9039afb4144a1f6fd8d2ca17a180786b69acc140d282b71a49"
   }
  }
 },
 "nbformat": 4,
 "nbformat_minor": 2
}
